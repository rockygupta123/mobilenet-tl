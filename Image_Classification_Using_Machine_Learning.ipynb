{
  "nbformat": 4,
  "nbformat_minor": 0,
  "metadata": {
    "colab": {
      "name": "Image Classification Using Machine Learning.ipynb",
      "provenance": [],
      "collapsed_sections": [],
      "include_colab_link": true
    },
    "kernelspec": {
      "display_name": "Python 3",
      "name": "python3"
    },
    "language_info": {
      "name": "python"
    }
  },
  "cells": [
    {
      "cell_type": "markdown",
      "metadata": {
        "id": "view-in-github",
        "colab_type": "text"
      },
      "source": [
        "<a href=\"https://colab.research.google.com/github/rockygupta123/mobilenet-tl/blob/main/Image_Classification_Using_Machine_Learning.ipynb\" target=\"_parent\"><img src=\"https://colab.research.google.com/assets/colab-badge.svg\" alt=\"Open In Colab\"/></a>"
      ]
    },
    {
      "cell_type": "code",
      "metadata": {
        "colab": {
          "base_uri": "https://localhost:8080/"
        },
        "id": "TIcKHFose1J4",
        "outputId": "c7099d9b-9ed8-43ec-aade-e5c0402cf22a"
      },
      "source": [
        "!pip install ipython-autotime\n",
        "%load_ext autotime"
      ],
      "execution_count": 2,
      "outputs": [
        {
          "output_type": "stream",
          "name": "stdout",
          "text": [
            "Requirement already satisfied: ipython-autotime in /usr/local/lib/python3.7/dist-packages (0.3.1)\n",
            "Requirement already satisfied: ipython in /usr/local/lib/python3.7/dist-packages (from ipython-autotime) (5.5.0)\n",
            "Requirement already satisfied: pygments in /usr/local/lib/python3.7/dist-packages (from ipython->ipython-autotime) (2.6.1)\n",
            "Requirement already satisfied: setuptools>=18.5 in /usr/local/lib/python3.7/dist-packages (from ipython->ipython-autotime) (57.4.0)\n",
            "Requirement already satisfied: pexpect in /usr/local/lib/python3.7/dist-packages (from ipython->ipython-autotime) (4.8.0)\n",
            "Requirement already satisfied: decorator in /usr/local/lib/python3.7/dist-packages (from ipython->ipython-autotime) (4.4.2)\n",
            "Requirement already satisfied: traitlets>=4.2 in /usr/local/lib/python3.7/dist-packages (from ipython->ipython-autotime) (5.1.0)\n",
            "Requirement already satisfied: pickleshare in /usr/local/lib/python3.7/dist-packages (from ipython->ipython-autotime) (0.7.5)\n",
            "Requirement already satisfied: simplegeneric>0.8 in /usr/local/lib/python3.7/dist-packages (from ipython->ipython-autotime) (0.8.1)\n",
            "Requirement already satisfied: prompt-toolkit<2.0.0,>=1.0.4 in /usr/local/lib/python3.7/dist-packages (from ipython->ipython-autotime) (1.0.18)\n",
            "Requirement already satisfied: wcwidth in /usr/local/lib/python3.7/dist-packages (from prompt-toolkit<2.0.0,>=1.0.4->ipython->ipython-autotime) (0.2.5)\n",
            "Requirement already satisfied: six>=1.9.0 in /usr/local/lib/python3.7/dist-packages (from prompt-toolkit<2.0.0,>=1.0.4->ipython->ipython-autotime) (1.15.0)\n",
            "Requirement already satisfied: ptyprocess>=0.5 in /usr/local/lib/python3.7/dist-packages (from pexpect->ipython->ipython-autotime) (0.7.0)\n",
            "The autotime extension is already loaded. To reload it, use:\n",
            "  %reload_ext autotime\n",
            "time: 3.56 s (started: 2021-10-19 16:50:57 +00:00)\n"
          ]
        }
      ]
    },
    {
      "cell_type": "code",
      "metadata": {
        "colab": {
          "base_uri": "https://localhost:8080/"
        },
        "id": "wclTADG0fJCX",
        "outputId": "2b90d71c-a6e2-470d-e0fb-34de31cc219e"
      },
      "source": [
        "#Gathering the data\n",
        "!pip install bing_image_downloader"
      ],
      "execution_count": 3,
      "outputs": [
        {
          "output_type": "stream",
          "name": "stdout",
          "text": [
            "Collecting bing_image_downloader\n",
            "  Downloading bing_image_downloader-1.1.1-py3-none-any.whl (5.7 kB)\n",
            "Installing collected packages: bing-image-downloader\n",
            "Successfully installed bing-image-downloader-1.1.1\n",
            "time: 3.55 s (started: 2021-10-19 16:51:01 +00:00)\n"
          ]
        }
      ]
    },
    {
      "cell_type": "code",
      "metadata": {
        "colab": {
          "base_uri": "https://localhost:8080/"
        },
        "id": "l1FuHoIXfTPK",
        "outputId": "65436a69-161b-48ec-f662-709f1b977be7"
      },
      "source": [
        "!mkdir images"
      ],
      "execution_count": 4,
      "outputs": [
        {
          "output_type": "stream",
          "name": "stdout",
          "text": [
            "time: 120 ms (started: 2021-10-19 16:51:04 +00:00)\n"
          ]
        }
      ]
    },
    {
      "cell_type": "code",
      "metadata": {
        "colab": {
          "base_uri": "https://localhost:8080/"
        },
        "id": "1psa7KPnfW99",
        "outputId": "aa631075-5089-477f-9482-166f1f5c106f"
      },
      "source": [
        "from bing_image_downloader import downloader\n",
        "downloader.download(\"Colorful Flowers\",limit=30,output_dir='images',\n",
        "                    adult_filter_off=True)"
      ],
      "execution_count": 5,
      "outputs": [
        {
          "output_type": "stream",
          "name": "stdout",
          "text": [
            "[%] Downloading Images to /content/images/Colorful Flowers\n",
            "\n",
            "\n",
            "[!!]Indexing page: 1\n",
            "\n",
            "[%] Indexed 30 Images on Page 1.\n",
            "\n",
            "===============================================\n",
            "\n",
            "[%] Downloading Image #1 from https://i.pinimg.com/originals/46/30/f5/4630f56c6264f37c635a6f8237d88353.jpg\n",
            "[%] File Downloaded !\n",
            "\n",
            "[%] Downloading Image #2 from https://i.pinimg.com/originals/01/69/d1/0169d1c4becf643a714687afbd03cd0e.jpg\n",
            "[%] File Downloaded !\n",
            "\n",
            "[%] Downloading Image #3 from https://i.pinimg.com/originals/ff/48/75/ff4875659a0ec63a6c4863de06c07cd5.jpg\n",
            "[%] File Downloaded !\n",
            "\n",
            "[%] Downloading Image #4 from https://i.pinimg.com/originals/22/d1/8c/22d18cd0fd0c1b6fbc64396e6eeb65b0.jpg\n",
            "[%] File Downloaded !\n",
            "\n",
            "[%] Downloading Image #5 from https://i.pinimg.com/originals/de/bc/c6/debcc6be171dd1e149fc85ce382ce69a.jpg\n",
            "[%] File Downloaded !\n",
            "\n",
            "[%] Downloading Image #6 from https://i.pinimg.com/originals/a8/0a/f4/a80af4fe9cac8945642815d853837762.jpg\n",
            "[%] File Downloaded !\n",
            "\n",
            "[%] Downloading Image #7 from https://i.pinimg.com/originals/19/8f/a7/198fa7fa08894ce8efd7e05820d32f17.jpg\n",
            "[%] File Downloaded !\n",
            "\n",
            "[%] Downloading Image #8 from https://i.pinimg.com/originals/d1/ae/56/d1ae565a6ceb64a6b239217e8c2bd7ef.jpg\n",
            "[%] File Downloaded !\n",
            "\n",
            "[%] Downloading Image #9 from https://ae01.alicdn.com/kf/HTB1kI1gX.zrK1RjSspmq6AOdFXaE/200pcs-Petunia-Europe-All-Seasons-100-Real-Flower-Rainbow-Colorful-True-Bonsai-Planting-For-Home-Garden.jpg\n",
            "[%] File Downloaded !\n",
            "\n",
            "[%] Downloading Image #10 from https://upload.wikimedia.org/wikipedia/commons/3/3b/Unidentified_Iris_Chanticleer_Purple_2868px.jpg\n",
            "[%] File Downloaded !\n",
            "\n",
            "[%] Downloading Image #11 from https://i.pinimg.com/originals/0f/8d/e8/0f8de835ecb2642d93f2355bb7f5d14d.jpg\n",
            "[%] File Downloaded !\n",
            "\n",
            "[%] Downloading Image #12 from https://i.pinimg.com/originals/3d/dd/1c/3ddd1c663186a7317eeb630310db1d11.jpg\n",
            "[%] File Downloaded !\n",
            "\n",
            "[%] Downloading Image #13 from https://i.pinimg.com/originals/5f/78/07/5f7807714bef5e889fbf6f72d8aaa5a0.jpg\n",
            "[%] File Downloaded !\n",
            "\n",
            "[%] Downloading Image #14 from https://i.pinimg.com/originals/e6/e1/bc/e6e1bc9f992225c23a3ae1d5acaa3be3.jpg\n",
            "[%] File Downloaded !\n",
            "\n",
            "[%] Downloading Image #15 from https://i.pinimg.com/originals/5d/6d/a2/5d6da206f4261b65ee862a0eba85d09b.jpg\n",
            "[%] File Downloaded !\n",
            "\n",
            "[%] Downloading Image #16 from https://i.pinimg.com/originals/29/e6/26/29e6266eefee5ce0a905b7384d6e9c8b.jpg\n",
            "[%] File Downloaded !\n",
            "\n",
            "[%] Downloading Image #17 from https://images.bonanzastatic.com/afu/images/86e4/7281/94fb_4971544191/2-bulb-true-tulip-bulb-tulip-flower-not-tulip-seed-flower-bulb-symbolizes-love-tulipanes-flower.jpg\n",
            "[%] File Downloaded !\n",
            "\n",
            "[%] Downloading Image #18 from https://ae01.alicdn.com/kf/HTB1vUVwKrPpK1RjSZFFq6y5PpXar/Promotion-100pcs-True-Geranium-Leaf-Plant-Bonsai-Cheap-Pelargonium-Perennial-Garden-Colorful-Flowers-Peltatum-Potted-Geraniums.jpg\n",
            "[%] File Downloaded !\n",
            "\n",
            "[%] Downloading Image #19 from https://i.pinimg.com/originals/aa/f0/9a/aaf09a3642ad5f4a3e167ab5174aae2b.jpg\n",
            "[%] File Downloaded !\n",
            "\n",
            "[%] Downloading Image #20 from https://i.pinimg.com/originals/07/34/d3/0734d3111e92d59bf68090b0463cf795.jpg\n",
            "[%] File Downloaded !\n",
            "\n",
            "[%] Downloading Image #21 from https://ae01.alicdn.com/kf/HTB1QaawXJfvK1RjSspoq6zfNpXaP/2pcs-True-Adenium-plants-Exotic-Desert-Rose-plants-Potted-Flowers-Balcony-Desert-Rose-plants-Multi-color.jpg\n",
            "[%] File Downloaded !\n",
            "\n",
            "[%] Downloading Image #22 from https://i.pinimg.com/originals/d1/58/9e/d1589e7f0abf7b5a6e658368ec4d5918.jpg\n",
            "[%] File Downloaded !\n",
            "\n",
            "[%] Downloading Image #23 from https://i.pinimg.com/originals/fb/bf/7b/fbbf7b3342b3187f00ca5b6f6341167e.jpg\n",
            "[%] File Downloaded !\n",
            "\n",
            "[%] Downloading Image #24 from https://i.pinimg.com/originals/84/29/79/842979dbe78ed4891ce51faa5fe66665.jpg\n",
            "[%] File Downloaded !\n",
            "\n",
            "[%] Downloading Image #25 from https://ae01.alicdn.com/kf/HTB1dVhGX._rK1Rjy0Fcq6zEvVXaG/50Pcs-Rare-True-Geranium-bonsai-Mixed-Color-Flower-Potted-Balcony-Planting-Seasons-Pelargonium-Potted-bonsai-For.jpg\n",
            "[%] File Downloaded !\n",
            "\n",
            "[%] Downloading Image #26 from https://ae01.alicdn.com/kf/HTB1Jf3SJY9YBuNjy0Fgq6AxcXXad/30pcs-True-Hydrangea-bonsai-colorful-hydrangea-flower-perennial-potted-plants-for-home-garden.jpg\n",
            "[%] File Downloaded !\n",
            "\n",
            "[%] Downloading Image #27 from https://i.pinimg.com/originals/77/4c/d0/774cd012cf97ff084d72fe3499b470a1.jpg\n",
            "[%] File Downloaded !\n",
            "\n",
            "[%] Downloading Image #28 from https://i0.wp.com/www.whatstruelove.com/wp-content/uploads/2015/05/cropped-colorful_flower_garden.jpg?w=1280&amp;ssl=1\n",
            "[%] File Downloaded !\n",
            "\n",
            "[%] Downloading Image #29 from https://i.ytimg.com/vi/3rEWiWTh9MA/maxresdefault.jpg\n",
            "[%] File Downloaded !\n",
            "\n",
            "[%] Downloading Image #30 from https://i.pinimg.com/originals/d2/02/0a/d2020ab929a2eab525e4f3adbddbee42.jpg\n",
            "[%] File Downloaded !\n",
            "\n",
            "\n",
            "\n",
            "[%] Done. Downloaded 30 images.\n",
            "===============================================\n",
            "\n",
            "Please show your support here\n",
            "https://www.buymeacoffee.com/gurugaurav\n",
            "\n",
            "===============================================\n",
            "\n",
            "time: 10.4 s (started: 2021-10-19 16:51:04 +00:00)\n"
          ]
        }
      ]
    },
    {
      "cell_type": "code",
      "metadata": {
        "colab": {
          "base_uri": "https://localhost:8080/"
        },
        "id": "ONuEUyC3f08N",
        "outputId": "02484719-c082-4dad-e3b5-563239ccb37c"
      },
      "source": [
        "from bing_image_downloader import downloader\n",
        "downloader.download(\"Nike Rugby Ball\",limit=30,output_dir='images',\n",
        "                    adult_filter_off=True)"
      ],
      "execution_count": 6,
      "outputs": [
        {
          "output_type": "stream",
          "name": "stdout",
          "text": [
            "[%] Downloading Images to /content/images/Nike Rugby Ball\n",
            "\n",
            "\n",
            "[!!]Indexing page: 1\n",
            "\n",
            "[%] Indexed 30 Images on Page 1.\n",
            "\n",
            "===============================================\n",
            "\n",
            "[%] Downloading Image #1 from https://i.ebayimg.com/images/g/PNIAAOSwHVFeWMh-/s-l640.jpg\n",
            "[%] File Downloaded !\n",
            "\n",
            "[%] Downloading Image #2 from https://www.soccerandrugby.com/media/catalog/product/sc3003-600.jpg\n",
            "[%] File Downloaded !\n",
            "\n",
            "[%] Downloading Image #3 from https://www.sportsdistributors.co.nz/wp-content/uploads/2020/01/SK340R.jpg\n",
            "[%] File Downloaded !\n",
            "\n",
            "[%] Downloading Image #4 from https://www.prodirectrugby.com/productimages/V3_1_Main/V3_1_Main_0278460.jpg?imwidth=375\n",
            "[!] Issue getting: https://www.prodirectrugby.com/productimages/V3_1_Main/V3_1_Main_0278460.jpg?imwidth=375\n",
            "[!] Error:: HTTP Error 403: Forbidden\n",
            "[%] Downloading Image #4 from https://shinypiece.com/wp-content/uploads/2020/02/88479-2.jpg\n",
            "[%] File Downloaded !\n",
            "\n",
            "[%] Downloading Image #5 from https://www.cheap-soccer-jerseys.net/wp-content/uploads/2019/12/cheap-rugby-jerseys-Nike-Mercurial-Veer-Soccer-Ball-WhiteLaser-Orange-where-to-get-cheap-jerseys-online.jpg\n",
            "[%] File Downloaded !\n",
            "\n",
            "[%] Downloading Image #6 from https://www.prodirectrugby.com/productimages/V3_1_Main/V3_1_Main_0321920.jpg\n",
            "[!] Issue getting: https://www.prodirectrugby.com/productimages/V3_1_Main/V3_1_Main_0321920.jpg\n",
            "[!] Error:: HTTP Error 403: Forbidden\n",
            "[%] Downloading Image #6 from https://cdn.shopify.com/s/files/1/0359/9997/3508/products/41031301_1800x1800.jpg?v=1614886456\n",
            "[%] File Downloaded !\n",
            "\n",
            "[%] Downloading Image #7 from https://www.prodirectrugby.com/productimages/V3_1_Main/V3_1_Main_0280841.jpg\n",
            "[!] Issue getting: https://www.prodirectrugby.com/productimages/V3_1_Main/V3_1_Main_0280841.jpg\n",
            "[!] Error:: HTTP Error 403: Forbidden\n",
            "[%] Downloading Image #7 from https://www.soccer2000.com/prodimages/5812-default-L.jpg\n",
            "[%] File Downloaded !\n",
            "\n",
            "[%] Downloading Image #8 from https://s7d2.scene7.com/is/image/academy/20491698\n",
            "[%] File Downloaded !\n",
            "\n",
            "[%] Downloading Image #9 from http://www.prodirectrugby.com/productimages/V3_1_Main/119284.jpg\n",
            "[!] Issue getting: http://www.prodirectrugby.com/productimages/V3_1_Main/119284.jpg\n",
            "[!] Error:: HTTP Error 403: Forbidden\n",
            "[%] Downloading Image #9 from https://www.sports-gearcentral.info/wp-content/uploads/2018/12/51zrjDoi-0L.jpg\n",
            "[%] File Downloaded !\n",
            "\n",
            "[%] Downloading Image #10 from https://www.prodirectsoccer.com/ProductImages/Main/83514.jpg\n",
            "[%] File Downloaded !\n",
            "\n",
            "[%] Downloading Image #11 from https://theballstore.co.nz/wp-content/uploads/2020/04/BB700-TRUE-Side-1.png\n",
            "[%] File Downloaded !\n",
            "\n",
            "[%] Downloading Image #12 from https://www.soccerandrugby.com/media/catalog/product/sc3154-707.jpg\n",
            "[%] File Downloaded !\n",
            "\n",
            "[%] Downloading Image #13 from https://sportscentre.co.za/wp-content/uploads/2019/08/sc2736-410.jpg\n",
            "[%] File Downloaded !\n",
            "\n",
            "[%] Downloading Image #14 from https://s3-eu-west-1.amazonaws.com/images.linnlive.com/f8cdeb43a8fbb907a6efe8a78fb17e14/ddb02924-978e-4002-a1d0-26ecd7bcb531.jpg\n",
            "[%] File Downloaded !\n",
            "\n",
            "[%] Downloading Image #15 from https://sportculture.co.za/wp-content/uploads/2019/08/sc3023-702.png\n",
            "[%] File Downloaded !\n",
            "\n",
            "[%] Downloading Image #16 from https://sportscentre.co.za/wp-content/uploads/2018/02/Nike-Pitch-Training.jpg\n",
            "[%] File Downloaded !\n",
            "\n",
            "[%] Downloading Image #17 from https://i.ebayimg.com/images/g/W~sAAOSwzL9eK0PY/s-l400.png\n",
            "[%] File Downloaded !\n",
            "\n",
            "[%] Downloading Image #18 from https://i.ebayimg.com/images/g/8O0AAOSwAM5eqKZt/s-l400.jpg\n",
            "[%] File Downloaded !\n",
            "\n",
            "[%] Downloading Image #19 from https://i.ebayimg.com/images/g/9sgAAOSwURheTETX/s-l600.jpg\n",
            "[%] File Downloaded !\n",
            "\n",
            "[%] Downloading Image #20 from https://www.prodirectsoccer.com/ProductImages/Main/153971.jpg\n",
            "[%] File Downloaded !\n",
            "\n",
            "[%] Downloading Image #21 from http://i167.photobucket.com/albums/u147/lithuanianstar/Neuware 7/_MG_6434.jpg\n",
            "[!] Issue getting: http://i167.photobucket.com/albums/u147/lithuanianstar/Neuware 7/_MG_6434.jpg\n",
            "[!] Error:: URL can't contain control characters. '/albums/u147/lithuanianstar/Neuware 7/_MG_6434.jpg' (found at least ' ')\n",
            "[%] Downloading Image #21 from https://shop.thesportshop.co.nz/user/images/7017.jpg?t=1612051704\n",
            "[%] File Downloaded !\n",
            "\n",
            "[%] Downloading Image #22 from https://i.ebayimg.com/images/g/pk4AAOSwzV5fhvXY/s-l400.jpg\n",
            "[%] File Downloaded !\n",
            "\n",
            "[%] Downloading Image #23 from http://www.prodirectrugby.com/productimages/V3_1_Gallery_1/119284.jpg\n",
            "[!] Issue getting: http://www.prodirectrugby.com/productimages/V3_1_Gallery_1/119284.jpg\n",
            "[!] Error:: HTTP Error 403: Forbidden\n",
            "[%] Downloading Image #23 from https://www.prodirectrugby.com/productimages/V3_1_Gallery_2/V3_1_Gallery_2_0278452.jpg\n",
            "[!] Issue getting: https://www.prodirectrugby.com/productimages/V3_1_Gallery_2/V3_1_Gallery_2_0278452.jpg\n",
            "[!] Error:: HTTP Error 403: Forbidden\n",
            "[%] Downloading Image #23 from https://www.prodirectrugby.com/productimages/V3_1_Gallery_3/119284.jpg\n",
            "[!] Issue getting: https://www.prodirectrugby.com/productimages/V3_1_Gallery_3/119284.jpg\n",
            "[!] Error:: HTTP Error 403: Forbidden\n",
            "\n",
            "\n",
            "[!!]Indexing page: 2\n",
            "\n",
            "[%] Indexed 35 Images on Page 2.\n",
            "\n",
            "===============================================\n",
            "\n",
            "[%] Downloading Image #23 from https://i.ebayimg.com/images/g/PNIAAOSwHVFeWMh-/s-l640.jpg\n",
            "[%] File Downloaded !\n",
            "\n",
            "[%] Downloading Image #24 from https://www.soccerandrugby.com/media/catalog/product/sc3003-600.jpg\n",
            "[%] File Downloaded !\n",
            "\n",
            "[%] Downloading Image #25 from https://www.sportsdistributors.co.nz/wp-content/uploads/2020/01/SK340R.jpg\n",
            "[%] File Downloaded !\n",
            "\n",
            "[%] Downloading Image #26 from https://www.prodirectrugby.com/productimages/V3_1_Main/V3_1_Main_0278460.jpg?imwidth=375\n",
            "[!] Issue getting: https://www.prodirectrugby.com/productimages/V3_1_Main/V3_1_Main_0278460.jpg?imwidth=375\n",
            "[!] Error:: HTTP Error 403: Forbidden\n",
            "[%] Downloading Image #26 from https://shinypiece.com/wp-content/uploads/2020/02/88479-2.jpg\n",
            "[%] File Downloaded !\n",
            "\n",
            "[%] Downloading Image #27 from https://www.cheap-soccer-jerseys.net/wp-content/uploads/2019/12/cheap-rugby-jerseys-Nike-Mercurial-Veer-Soccer-Ball-WhiteLaser-Orange-where-to-get-cheap-jerseys-online.jpg\n",
            "[%] File Downloaded !\n",
            "\n",
            "[%] Downloading Image #28 from https://www.prodirectrugby.com/productimages/V3_1_Main/V3_1_Main_0321920.jpg\n",
            "[!] Issue getting: https://www.prodirectrugby.com/productimages/V3_1_Main/V3_1_Main_0321920.jpg\n",
            "[!] Error:: HTTP Error 403: Forbidden\n",
            "[%] Downloading Image #28 from https://cdn.shopify.com/s/files/1/0359/9997/3508/products/41031301_1800x1800.jpg?v=1614886456\n",
            "[%] File Downloaded !\n",
            "\n",
            "[%] Downloading Image #29 from https://www.prodirectrugby.com/productimages/V3_1_Main/V3_1_Main_0280841.jpg\n",
            "[!] Issue getting: https://www.prodirectrugby.com/productimages/V3_1_Main/V3_1_Main_0280841.jpg\n",
            "[!] Error:: HTTP Error 403: Forbidden\n",
            "[%] Downloading Image #29 from https://www.soccer2000.com/prodimages/5812-default-L.jpg\n",
            "[%] File Downloaded !\n",
            "\n",
            "[%] Downloading Image #30 from https://s7d2.scene7.com/is/image/academy/20491698\n",
            "[%] File Downloaded !\n",
            "\n",
            "\n",
            "\n",
            "[%] Done. Downloaded 30 images.\n",
            "===============================================\n",
            "\n",
            "Please show your support here\n",
            "https://www.buymeacoffee.com/gurugaurav\n",
            "\n",
            "===============================================\n",
            "\n",
            "time: 28 s (started: 2021-10-19 16:51:15 +00:00)\n"
          ]
        }
      ]
    },
    {
      "cell_type": "code",
      "metadata": {
        "colab": {
          "base_uri": "https://localhost:8080/"
        },
        "id": "RhamNiVTgfpa",
        "outputId": "f5c8acc4-aa0e-4c08-c74e-9549e9c8c115"
      },
      "source": [
        "from bing_image_downloader import downloader\n",
        "downloader.download(\"Ice Cream Churn\",limit=30,output_dir='images',\n",
        "                    adult_filter_off=True)"
      ],
      "execution_count": 7,
      "outputs": [
        {
          "output_type": "stream",
          "name": "stdout",
          "text": [
            "[%] Downloading Images to /content/images/Ice Cream Churn\n",
            "\n",
            "\n",
            "[!!]Indexing page: 1\n",
            "\n",
            "[%] Indexed 30 Images on Page 1.\n",
            "\n",
            "===============================================\n",
            "\n",
            "[%] Downloading Image #1 from https://i.pinimg.com/originals/5c/a3/98/5ca3982818a331347853afb43ac11782.jpg\n",
            "[%] File Downloaded !\n",
            "\n",
            "[%] Downloading Image #2 from https://bromabakery.com/wp-content/uploads/2015/08/Coffee-Oreo-Ice-Cream-51.jpg\n",
            "[%] File Downloaded !\n",
            "\n",
            "[%] Downloading Image #3 from https://www.lilyrosebakersblog.com/wp-content/uploads/2020/07/IMG_4119-scaled-720x1080.jpg\n",
            "[%] File Downloaded !\n",
            "\n",
            "[%] Downloading Image #4 from https://i.pinimg.com/originals/0c/cf/51/0ccf51e41a7d230a105075d5eed35f5a.png\n",
            "[%] File Downloaded !\n",
            "\n",
            "[%] Downloading Image #5 from https://www.thespeckledpalate.com/wp-content/uploads/2016/11/TheSpeckledPalate_NoChurnPeppermintIceCreamMilkshake_004_web.jpg\n",
            "[%] File Downloaded !\n",
            "\n",
            "[%] Downloading Image #6 from https://inspiredfork.com/wp-content/uploads/2021/05/No-Churn-Chocolate-Toffee-Ice-Cream.jpg\n",
            "[%] File Downloaded !\n",
            "\n",
            "[%] Downloading Image #7 from https://i.pinimg.com/originals/a1/3a/46/a13a46ccc3d5c43166ab35ed528fed7c.jpg\n",
            "[%] File Downloaded !\n",
            "\n",
            "[%] Downloading Image #8 from https://cookingwithcarlee.com/wp-content/uploads/2017/08/Sundae2BIce2BCream2BScooper.jpg\n",
            "[%] File Downloaded !\n",
            "\n",
            "[%] Downloading Image #9 from https://i.pinimg.com/originals/0b/59/8a/0b598a38331d0edd578b2b41fde779c0.jpg\n",
            "[%] File Downloaded !\n",
            "\n",
            "[%] Downloading Image #10 from https://img-aws.ehowcdn.com/700x/cdn.onlyinyourstate.com/wp-content/uploads/2017/07/o-608-700x933.jpg\n",
            "[%] File Downloaded !\n",
            "\n",
            "[%] Downloading Image #11 from https://i.pinimg.com/originals/76/a0/aa/76a0aa137f7fb0c47114ad1fa0f030e8.jpg\n",
            "[%] File Downloaded !\n",
            "\n",
            "[%] Downloading Image #12 from https://www.thehomecookskitchen.com/wp-content/uploads/2018/06/no-churn-ice-cream-landscape.jpg\n",
            "[%] File Downloaded !\n",
            "\n",
            "[%] Downloading Image #13 from https://i.pinimg.com/originals/5f/9e/4b/5f9e4bd4e9510e90196f77cb0ffdb8f1.jpg\n",
            "[%] File Downloaded !\n",
            "\n",
            "[%] Downloading Image #14 from https://i1.wp.com/frugalhausfrau.com/wp-content/uploads/2019/08/No-Churn-Cherry-Ice-Cream-3.jpg?fit=1200%2C1301&amp;ssl=1\n",
            "[%] File Downloaded !\n",
            "\n",
            "[%] Downloading Image #15 from https://i.pinimg.com/originals/94/af/66/94af66bfffbb8f522d930aae4bd4187b.jpg\n",
            "[%] File Downloaded !\n",
            "\n",
            "[%] Downloading Image #16 from https://i.pinimg.com/originals/28/72/35/287235f34e83fe637550ad5ddeacd33e.jpg\n",
            "[%] File Downloaded !\n",
            "\n",
            "[%] Downloading Image #17 from https://i.pinimg.com/originals/49/ae/11/49ae112f954ba1be1267da232aa489c9.jpg\n",
            "[%] File Downloaded !\n",
            "\n",
            "[%] Downloading Image #18 from https://i.pinimg.com/originals/5d/3d/88/5d3d883b640660ceee2c3226a0fa01a7.jpg\n",
            "[%] File Downloaded !\n",
            "\n",
            "[%] Downloading Image #19 from https://jessicainthekitchen.com/wp-content/uploads/2018/08/Vegan-Mango-Ice-Cream-3-Ingredients-5.jpg\n",
            "[%] File Downloaded !\n",
            "\n",
            "[%] Downloading Image #20 from https://pudgefactor.com/wp-content/uploads/2020/07/LPStrawberry_Ice_Cream.jpg\n",
            "[%] File Downloaded !\n",
            "\n",
            "[%] Downloading Image #21 from https://1.bp.blogspot.com/-mroKStXVc_0/XSOoH-S2OMI/AAAAAAAAKb8/kGyNjELrUgYEHYnjY6p7KBbrDhBCESvSACLcBGAs/s1600/smores-ice-cream.jpg\n",
            "[%] File Downloaded !\n",
            "\n",
            "[%] Downloading Image #22 from https://www.recipetineats.com/wp-content/uploads/2018/07/Strawberry-Ice-Cream-No-Churn_2.jpg?resize=86\n",
            "[%] File Downloaded !\n",
            "\n",
            "[%] Downloading Image #23 from https://electricbluefood.com/wp-content/uploads/2020/08/hazelnut-ice-cream-08.jpg\n",
            "[%] File Downloaded !\n",
            "\n",
            "[%] Downloading Image #24 from https://i.pinimg.com/originals/a1/d5/61/a1d561ce20ea8a5fba7318f64969f9e8.jpg\n",
            "[%] File Downloaded !\n",
            "\n",
            "[%] Downloading Image #25 from https://i.pinimg.com/originals/98/d2/38/98d2381bfd002a1b0faa38d494a61952.jpg\n",
            "[%] File Downloaded !\n",
            "\n",
            "[%] Downloading Image #26 from https://i.pinimg.com/736x/f2/20/5e/f2205e746f6494867a1015833430b92a.jpg\n",
            "[%] File Downloaded !\n",
            "\n",
            "[%] Downloading Image #27 from https://i2.wp.com/blog.shopsweetsandtreats.com/wp-content/uploads/ChocolateIceCream1STBBG-1.jpg?resize=683%2C854&amp;ssl=1\n",
            "[%] File Downloaded !\n",
            "\n",
            "[%] Downloading Image #28 from https://1.bp.blogspot.com/-oA1h8E3Mzqk/XSOojUCW7xI/AAAAAAAAKcM/Xv8pzwDChhUh--WCyeybyrfHLn4jCT6QQCLcBGAs/s1600/no-churn-ice-cream.jpg\n",
            "[%] File Downloaded !\n",
            "\n",
            "[%] Downloading Image #29 from https://i.pinimg.com/originals/bc/4b/b9/bc4bb947b896df989a9af0f42db06643.jpg\n",
            "[%] File Downloaded !\n",
            "\n",
            "[%] Downloading Image #30 from https://i0.wp.com/www.patisseriemakesperfect.co.uk/wp-content/uploads/2015/07/nochurnweb-5.jpg?w=2280&amp;ssl=1\n",
            "[%] File Downloaded !\n",
            "\n",
            "\n",
            "\n",
            "[%] Done. Downloaded 30 images.\n",
            "===============================================\n",
            "\n",
            "Please show your support here\n",
            "https://www.buymeacoffee.com/gurugaurav\n",
            "\n",
            "===============================================\n",
            "\n",
            "time: 10.5 s (started: 2021-10-19 16:51:43 +00:00)\n"
          ]
        }
      ]
    },
    {
      "cell_type": "code",
      "metadata": {
        "colab": {
          "base_uri": "https://localhost:8080/"
        },
        "id": "mcDP5V8fg2e7",
        "outputId": "f0258c14-77a1-476c-f8c6-98db73d4546a"
      },
      "source": [
        "#preprocessing\n",
        "#1.Resize\n",
        "#2.Flatten\n",
        "import os\n",
        "import matplotlib.pyplot as plt\n",
        "import numpy as np\n",
        "from skimage.io import imread\n",
        "from skimage.transform import resize\n",
        "\n",
        "target = []\n",
        "images = []\n",
        "flat_data = []\n",
        "\n",
        "DATADIR = '/content/images'\n",
        "CATEGORIES = ['Colorful Flowers','Nike Rugby Ball','Ice Cream Churn']\n",
        "\n",
        "for category in CATEGORIES:\n",
        "  class_num=CATEGORIES.index(category) #label encoding the values.\n",
        "  path = os.path.join(DATADIR,category)#create a path to use all the images.\n",
        "  for img in os.listdir(path):\n",
        "    img_array = imread(os.path.join(path,img))\n",
        "   # print(img_array.shape) \n",
        "   # plt.imshow(img_array)\n",
        "    img_resized = resize(img_array,(150,150,3)) #normalize the value from 0 to 1.\n",
        "    flat_data.append(img_resized.flatten())\n",
        "    images.append(img_resized)\n",
        "    target.append(class_num)\n",
        "\n",
        "flat_data = np.array(flat_data)\n",
        "target = np.array(target)\n",
        "images = np.array(images)\n"
      ],
      "execution_count": 8,
      "outputs": [
        {
          "output_type": "stream",
          "name": "stdout",
          "text": [
            "time: 1min 21s (started: 2021-10-19 16:51:53 +00:00)\n"
          ]
        }
      ]
    },
    {
      "cell_type": "code",
      "metadata": {
        "colab": {
          "base_uri": "https://localhost:8080/"
        },
        "id": "p0LaDB-Mhl0a",
        "outputId": "b07c4049-b7f4-439b-c469-d372a79f26ab"
      },
      "source": [
        "flat_data[0]"
      ],
      "execution_count": 9,
      "outputs": [
        {
          "output_type": "execute_result",
          "data": {
            "text/plain": [
              "array([0.72941176, 0.74901961, 0.77254902, ..., 0.14901961, 0.23137255,\n",
              "       0.12156863])"
            ]
          },
          "metadata": {},
          "execution_count": 9
        },
        {
          "output_type": "stream",
          "name": "stdout",
          "text": [
            "time: 8.23 ms (started: 2021-10-19 16:53:15 +00:00)\n"
          ]
        }
      ]
    },
    {
      "cell_type": "code",
      "metadata": {
        "colab": {
          "base_uri": "https://localhost:8080/"
        },
        "id": "Uf-GJHhUhn6N",
        "outputId": "0d7bc7a6-02b4-474d-b2b5-d2a885e74a18"
      },
      "source": [
        "target"
      ],
      "execution_count": 10,
      "outputs": [
        {
          "output_type": "execute_result",
          "data": {
            "text/plain": [
              "array([0, 0, 0, 0, 0, 0, 0, 0, 0, 0, 0, 0, 0, 0, 0, 0, 0, 0, 0, 0, 0, 0,\n",
              "       0, 0, 0, 0, 0, 0, 0, 0, 1, 1, 1, 1, 1, 1, 1, 1, 1, 1, 1, 1, 1, 1,\n",
              "       1, 1, 1, 1, 1, 1, 1, 1, 1, 1, 1, 1, 1, 1, 1, 1, 2, 2, 2, 2, 2, 2,\n",
              "       2, 2, 2, 2, 2, 2, 2, 2, 2, 2, 2, 2, 2, 2, 2, 2, 2, 2, 2, 2, 2, 2,\n",
              "       2, 2])"
            ]
          },
          "metadata": {},
          "execution_count": 10
        },
        {
          "output_type": "stream",
          "name": "stdout",
          "text": [
            "time: 7.37 ms (started: 2021-10-19 16:53:15 +00:00)\n"
          ]
        }
      ]
    },
    {
      "cell_type": "code",
      "metadata": {
        "colab": {
          "base_uri": "https://localhost:8080/",
          "height": 300
        },
        "id": "bE3yOwSUhs56",
        "outputId": "30d982bf-f2f7-4bec-df6e-797fec60ba7e"
      },
      "source": [
        "unique,count = np.unique(target,return_counts=True)\n",
        "plt.bar(CATEGORIES,count)"
      ],
      "execution_count": 11,
      "outputs": [
        {
          "output_type": "execute_result",
          "data": {
            "text/plain": [
              "<BarContainer object of 3 artists>"
            ]
          },
          "metadata": {},
          "execution_count": 11
        },
        {
          "output_type": "display_data",
          "data": {
            "image/png": "[encoded data removed]",
            "text/plain": [
              "<Figure size 432x288 with 1 Axes>"
            ]
          },
          "metadata": {
            "needs_background": "light"
          }
        },
        {
          "output_type": "stream",
          "name": "stdout",
          "text": [
            "time: 191 ms (started: 2021-10-19 16:53:15 +00:00)\n"
          ]
        }
      ]
    },
    {
      "cell_type": "code",
      "metadata": {
        "colab": {
          "base_uri": "https://localhost:8080/"
        },
        "id": "s0joy8fKh2nX",
        "outputId": "f043213b-e1e4-4b32-b9df-346006ae52c7"
      },
      "source": [
        "#split data into Training and testing..\n",
        "from sklearn.model_selection import train_test_split\n",
        "x_train,x_test,y_train,y_test = train_test_split(flat_data,target,\n",
        "                                      test_size=0.3,random_state=109)"
      ],
      "execution_count": 12,
      "outputs": [
        {
          "output_type": "stream",
          "name": "stdout",
          "text": [
            "time: 224 ms (started: 2021-10-19 16:53:15 +00:00)\n"
          ]
        }
      ]
    },
    {
      "cell_type": "code",
      "metadata": {
        "id": "tHjgwFoFiCFb",
        "colab": {
          "base_uri": "https://localhost:8080/"
        },
        "outputId": "5d5eb17c-5fb5-4204-c345-9771a2fdf9d5"
      },
      "source": [
        "from sklearn.model_selection import GridSearchCV\n",
        "from sklearn import svm\n",
        "param_grid = [\n",
        "              {'C':[1,10,100,1000],'kernel':['linear']},\n",
        "              {'C':[1,10,100,1000],'gamma':[0.001]}\n",
        "]\n",
        "\n",
        "svc = svm.SVC(probability=True)\n",
        "clf = GridSearchCV(svc,param_grid)\n",
        "clf.fit(x_train,y_train)"
      ],
      "execution_count": 13,
      "outputs": [
        {
          "output_type": "execute_result",
          "data": {
            "text/plain": [
              "GridSearchCV(cv=None, error_score=nan,\n",
              "             estimator=SVC(C=1.0, break_ties=False, cache_size=200,\n",
              "                           class_weight=None, coef0=0.0,\n",
              "                           decision_function_shape='ovr', degree=3,\n",
              "                           gamma='scale', kernel='rbf', max_iter=-1,\n",
              "                           probability=True, random_state=None, shrinking=True,\n",
              "                           tol=0.001, verbose=False),\n",
              "             iid='deprecated', n_jobs=None,\n",
              "             param_grid=[{'C': [1, 10, 100, 1000], 'kernel': ['linear']},\n",
              "                         {'C': [1, 10, 100, 1000], 'gamma': [0.001]}],\n",
              "             pre_dispatch='2*n_jobs', refit=True, return_train_score=False,\n",
              "             scoring=None, verbose=0)"
            ]
          },
          "metadata": {},
          "execution_count": 13
        },
        {
          "output_type": "stream",
          "name": "stdout",
          "text": [
            "time: 1min 36s (started: 2021-10-19 16:53:16 +00:00)\n"
          ]
        }
      ]
    },
    {
      "cell_type": "code",
      "metadata": {
        "colab": {
          "base_uri": "https://localhost:8080/"
        },
        "id": "_W-AFOqrifHN",
        "outputId": "f33b8e5d-3447-4637-dfec-17456882d4d2"
      },
      "source": [
        "y_pred = clf.predict(x_test)\n",
        "y_pred"
      ],
      "execution_count": 14,
      "outputs": [
        {
          "output_type": "execute_result",
          "data": {
            "text/plain": [
              "array([1, 0, 1, 1, 2, 1, 0, 1, 1, 0, 1, 0, 1, 2, 2, 0, 2, 2, 0, 1, 2, 0,\n",
              "       2, 2, 0, 0, 1])"
            ]
          },
          "metadata": {},
          "execution_count": 14
        },
        {
          "output_type": "stream",
          "name": "stdout",
          "text": [
            "time: 232 ms (started: 2021-10-19 16:54:52 +00:00)\n"
          ]
        }
      ]
    },
    {
      "cell_type": "code",
      "metadata": {
        "colab": {
          "base_uri": "https://localhost:8080/"
        },
        "id": "t8QPZM7zihAB",
        "outputId": "8b8cb36e-6c6e-4e64-c61e-713d967a097c"
      },
      "source": [
        "y_test"
      ],
      "execution_count": 15,
      "outputs": [
        {
          "output_type": "execute_result",
          "data": {
            "text/plain": [
              "array([1, 0, 1, 2, 2, 1, 0, 1, 1, 0, 1, 0, 1, 2, 2, 1, 2, 1, 0, 1, 2, 2,\n",
              "       2, 0, 0, 0, 1])"
            ]
          },
          "metadata": {},
          "execution_count": 15
        },
        {
          "output_type": "stream",
          "name": "stdout",
          "text": [
            "time: 4.7 ms (started: 2021-10-19 16:54:52 +00:00)\n"
          ]
        }
      ]
    },
    {
      "cell_type": "code",
      "metadata": {
        "colab": {
          "base_uri": "https://localhost:8080/"
        },
        "id": "IRYYuNcwirOW",
        "outputId": "099768cd-2543-476d-bdc0-22e9b91fa8dd"
      },
      "source": [
        "from sklearn.metrics import accuracy_score,confusion_matrix"
      ],
      "execution_count": 16,
      "outputs": [
        {
          "output_type": "stream",
          "name": "stdout",
          "text": [
            "time: 1.55 ms (started: 2021-10-19 16:54:52 +00:00)\n"
          ]
        }
      ]
    },
    {
      "cell_type": "code",
      "metadata": {
        "colab": {
          "base_uri": "https://localhost:8080/"
        },
        "id": "QFRnsWtVi1Xm",
        "outputId": "e0e9e393-7d3b-4ebe-e8f6-52169c74db5c"
      },
      "source": [
        "accuracy_score(y_pred,y_test)"
      ],
      "execution_count": 17,
      "outputs": [
        {
          "output_type": "execute_result",
          "data": {
            "text/plain": [
              "0.8148148148148148"
            ]
          },
          "metadata": {},
          "execution_count": 17
        },
        {
          "output_type": "stream",
          "name": "stdout",
          "text": [
            "time: 10.8 ms (started: 2021-10-19 16:54:52 +00:00)\n"
          ]
        }
      ]
    },
    {
      "cell_type": "code",
      "metadata": {
        "colab": {
          "base_uri": "https://localhost:8080/"
        },
        "id": "TYmUu1Y2i4Bi",
        "outputId": "62d05131-d0cb-4e29-a435-bb14fff270ac"
      },
      "source": [
        "confusion_matrix(y_pred,y_test)"
      ],
      "execution_count": 18,
      "outputs": [
        {
          "output_type": "execute_result",
          "data": {
            "text/plain": [
              "array([[7, 1, 1],\n",
              "       [0, 9, 1],\n",
              "       [1, 1, 6]])"
            ]
          },
          "metadata": {},
          "execution_count": 18
        },
        {
          "output_type": "stream",
          "name": "stdout",
          "text": [
            "time: 8.74 ms (started: 2021-10-19 16:54:52 +00:00)\n"
          ]
        }
      ]
    },
    {
      "cell_type": "code",
      "metadata": {
        "colab": {
          "base_uri": "https://localhost:8080/"
        },
        "id": "ksH2OXFGjAs-",
        "outputId": "47f92ec8-fafc-44c0-8799-d05afe799b6d"
      },
      "source": [
        "#save the model using Pickle library\n",
        "import pickle\n",
        "pickle.dump(clf,open('img_model.p','wb'))"
      ],
      "execution_count": 19,
      "outputs": [
        {
          "output_type": "stream",
          "name": "stdout",
          "text": [
            "time: 55.7 ms (started: 2021-10-19 16:54:52 +00:00)\n"
          ]
        }
      ]
    },
    {
      "cell_type": "code",
      "metadata": {
        "colab": {
          "base_uri": "https://localhost:8080/"
        },
        "id": "aLAfpxEjjDkK",
        "outputId": "215329f8-c5cd-4748-d67b-8e2dc5c3022c"
      },
      "source": [
        "model = pickle.load(open('img_model.p','rb'))"
      ],
      "execution_count": 20,
      "outputs": [
        {
          "output_type": "stream",
          "name": "stdout",
          "text": [
            "time: 37.2 ms (started: 2021-10-19 16:54:52 +00:00)\n"
          ]
        }
      ]
    },
    {
      "cell_type": "code",
      "metadata": {
        "id": "sQLvdnXpjKZG",
        "colab": {
          "base_uri": "https://localhost:8080/",
          "height": 358
        },
        "outputId": "306ef2bf-8df6-4f48-935f-6ae2d7c830fe"
      },
      "source": [
        "#Testing a brand new Image\n",
        "flat_data = []\n",
        "url = input('enter your url')\n",
        "img = imread(url)\n",
        "img_resized = resize(img,(150,150,3))\n",
        "flat_data.append(img_resized.flatten())\n",
        "flat_data = np.array(flat_data)\n",
        "print(img.shape)\n",
        "plt.imshow(img_resized)\n",
        "y_out = model.predict(flat_data)\n",
        "y_out = CATEGORIES[y_out[0]]\n",
        "print(f'PREDICTED OUTPUT:{y_out}')"
      ],
      "execution_count": 21,
      "outputs": [
        {
          "output_type": "stream",
          "name": "stdout",
          "text": [
            "enter your urlhttps://i1.wp.com/tarasmulticulturaltable.com/wp-content/uploads/2016/02/Cinnamon-Cream-Cheese-Ice-Cream-2-of-3.jpg?fit=3094%2C4657&ssl=1\n",
            "(4657, 3094, 3)\n",
            "PREDICTED OUTPUT:Ice Cream Churn\n"
          ]
        },
        {
          "output_type": "display_data",
          "data": {
            "image/png": "[encoded data removed]",
            "text/plain": [
              "<Figure size 432x288 with 1 Axes>"
            ]
          },
          "metadata": {
            "needs_background": "light"
          }
        },
        {
          "output_type": "stream",
          "name": "stdout",
          "text": [
            "time: 50.8 s (started: 2021-10-19 16:54:52 +00:00)\n"
          ]
        }
      ]
    },
    {
      "cell_type": "code",
      "metadata": {
        "id": "j0Hhg_ZhkcT3",
        "colab": {
          "base_uri": "https://localhost:8080/",
          "height": 1000
        },
        "outputId": "0e3bb269-124b-42f6-9702-0f407410a52f"
      },
      "source": [
        "!pip install streamlit\n",
        "\n",
        "!pip install pyngrok\n",
        "from pyngrok import ngrok"
      ],
      "execution_count": 22,
      "outputs": [
        {
          "output_type": "stream",
          "name": "stdout",
          "text": [
            "Collecting streamlit\n",
            "  Downloading streamlit-1.0.0-py2.py3-none-any.whl (8.3 MB)\n",
            "\u001b[K     |████████████████████████████████| 8.3 MB 8.5 MB/s \n",
            "\u001b[?25hRequirement already satisfied: toml in /usr/local/lib/python3.7/dist-packages (from streamlit) (0.10.2)\n",
            "Collecting gitpython!=3.1.19\n",
            "  Downloading GitPython-3.1.24-py3-none-any.whl (180 kB)\n",
            "\u001b[K     |████████████████████████████████| 180 kB 55.3 MB/s \n",
            "\u001b[?25hRequirement already satisfied: tornado>=5.0 in /usr/local/lib/python3.7/dist-packages (from streamlit) (5.1.1)\n",
            "Collecting watchdog\n",
            "  Downloading watchdog-2.1.6-py3-none-manylinux2014_x86_64.whl (76 kB)\n",
            "\u001b[K     |████████████████████████████████| 76 kB 4.3 MB/s \n",
            "\u001b[?25hRequirement already satisfied: altair>=3.2.0 in /usr/local/lib/python3.7/dist-packages (from streamlit) (4.1.0)\n",
            "Requirement already satisfied: pyarrow in /usr/local/lib/python3.7/dist-packages (from streamlit) (3.0.0)\n",
            "Requirement already satisfied: click<8.0,>=7.0 in /usr/local/lib/python3.7/dist-packages (from streamlit) (7.1.2)\n",
            "Collecting blinker\n",
            "  Downloading blinker-1.4.tar.gz (111 kB)\n",
            "\u001b[K     |████████████████████████████████| 111 kB 62.7 MB/s \n",
            "\u001b[?25hRequirement already satisfied: protobuf!=3.11,>=3.6.0 in /usr/local/lib/python3.7/dist-packages (from streamlit) (3.17.3)\n",
            "Requirement already satisfied: python-dateutil in /usr/local/lib/python3.7/dist-packages (from streamlit) (2.8.2)\n",
            "Requirement already satisfied: attrs in /usr/local/lib/python3.7/dist-packages (from streamlit) (21.2.0)\n",
            "Requirement already satisfied: astor in /usr/local/lib/python3.7/dist-packages (from streamlit) (0.8.1)\n",
            "Requirement already satisfied: packaging in /usr/local/lib/python3.7/dist-packages (from streamlit) (21.0)\n",
            "Requirement already satisfied: requests in /usr/local/lib/python3.7/dist-packages (from streamlit) (2.23.0)\n",
            "Requirement already satisfied: tzlocal in /usr/local/lib/python3.7/dist-packages (from streamlit) (1.5.1)\n",
            "Requirement already satisfied: numpy in /usr/local/lib/python3.7/dist-packages (from streamlit) (1.19.5)\n",
            "Collecting base58\n",
            "  Downloading base58-2.1.0-py3-none-any.whl (5.6 kB)\n",
            "Requirement already satisfied: cachetools>=4.0 in /usr/local/lib/python3.7/dist-packages (from streamlit) (4.2.4)\n",
            "Requirement already satisfied: pandas>=0.21.0 in /usr/local/lib/python3.7/dist-packages (from streamlit) (1.1.5)\n",
            "Collecting pydeck>=0.1.dev5\n",
            "  Downloading pydeck-0.7.0-py2.py3-none-any.whl (4.3 MB)\n",
            "\u001b[K     |████████████████████████████████| 4.3 MB 40.4 MB/s \n",
            "\u001b[?25hCollecting validators\n",
            "  Downloading validators-0.18.2-py3-none-any.whl (19 kB)\n",
            "Requirement already satisfied: pillow>=6.2.0 in /usr/local/lib/python3.7/dist-packages (from streamlit) (7.1.2)\n",
            "Requirement already satisfied: toolz in /usr/local/lib/python3.7/dist-packages (from altair>=3.2.0->streamlit) (0.11.1)\n",
            "Requirement already satisfied: entrypoints in /usr/local/lib/python3.7/dist-packages (from altair>=3.2.0->streamlit) (0.3)\n",
            "Requirement already satisfied: jinja2 in /usr/local/lib/python3.7/dist-packages (from altair>=3.2.0->streamlit) (2.11.3)\n",
            "Requirement already satisfied: jsonschema in /usr/local/lib/python3.7/dist-packages (from altair>=3.2.0->streamlit) (2.6.0)\n",
            "Collecting gitdb<5,>=4.0.1\n",
            "  Downloading gitdb-4.0.7-py3-none-any.whl (63 kB)\n",
            "\u001b[K     |████████████████████████████████| 63 kB 1.5 MB/s \n",
            "\u001b[?25hRequirement already satisfied: typing-extensions>=3.7.4.3 in /usr/local/lib/python3.7/dist-packages (from gitpython!=3.1.19->streamlit) (3.7.4.3)\n",
            "Collecting smmap<5,>=3.0.1\n",
            "  Downloading smmap-4.0.0-py2.py3-none-any.whl (24 kB)\n",
            "Requirement already satisfied: pytz>=2017.2 in /usr/local/lib/python3.7/dist-packages (from pandas>=0.21.0->streamlit) (2018.9)\n",
            "Requirement already satisfied: six>=1.9 in /usr/local/lib/python3.7/dist-packages (from protobuf!=3.11,>=3.6.0->streamlit) (1.15.0)\n",
            "Collecting ipykernel>=5.1.2\n",
            "  Downloading ipykernel-6.4.1-py3-none-any.whl (124 kB)\n",
            "\u001b[K     |████████████████████████████████| 124 kB 47.0 MB/s \n",
            "\u001b[?25hRequirement already satisfied: traitlets>=4.3.2 in /usr/local/lib/python3.7/dist-packages (from pydeck>=0.1.dev5->streamlit) (5.1.0)\n",
            "Requirement already satisfied: ipywidgets>=7.0.0 in /usr/local/lib/python3.7/dist-packages (from pydeck>=0.1.dev5->streamlit) (7.6.5)\n",
            "Requirement already satisfied: ipython-genutils in /usr/local/lib/python3.7/dist-packages (from ipykernel>=5.1.2->pydeck>=0.1.dev5->streamlit) (0.2.0)\n",
            "Collecting ipython<8.0,>=7.23.1\n",
            "  Downloading ipython-7.28.0-py3-none-any.whl (788 kB)\n",
            "\u001b[K     |████████████████████████████████| 788 kB 56.4 MB/s \n",
            "\u001b[?25hRequirement already satisfied: importlib-metadata<5 in /usr/local/lib/python3.7/dist-packages (from ipykernel>=5.1.2->pydeck>=0.1.dev5->streamlit) (4.8.1)\n",
            "Requirement already satisfied: jupyter-client<8.0 in /usr/local/lib/python3.7/dist-packages (from ipykernel>=5.1.2->pydeck>=0.1.dev5->streamlit) (5.3.5)\n",
            "Requirement already satisfied: matplotlib-inline<0.2.0,>=0.1.0 in /usr/local/lib/python3.7/dist-packages (from ipykernel>=5.1.2->pydeck>=0.1.dev5->streamlit) (0.1.3)\n",
            "Requirement already satisfied: argcomplete>=1.12.3 in /usr/local/lib/python3.7/dist-packages (from ipykernel>=5.1.2->pydeck>=0.1.dev5->streamlit) (1.12.3)\n",
            "Requirement already satisfied: debugpy<2.0,>=1.0.0 in /usr/local/lib/python3.7/dist-packages (from ipykernel>=5.1.2->pydeck>=0.1.dev5->streamlit) (1.0.0)\n",
            "Requirement already satisfied: zipp>=0.5 in /usr/local/lib/python3.7/dist-packages (from importlib-metadata<5->ipykernel>=5.1.2->pydeck>=0.1.dev5->streamlit) (3.6.0)\n",
            "Requirement already satisfied: setuptools>=18.5 in /usr/local/lib/python3.7/dist-packages (from ipython<8.0,>=7.23.1->ipykernel>=5.1.2->pydeck>=0.1.dev5->streamlit) (57.4.0)\n",
            "Requirement already satisfied: pygments in /usr/local/lib/python3.7/dist-packages (from ipython<8.0,>=7.23.1->ipykernel>=5.1.2->pydeck>=0.1.dev5->streamlit) (2.6.1)\n",
            "Requirement already satisfied: backcall in /usr/local/lib/python3.7/dist-packages (from ipython<8.0,>=7.23.1->ipykernel>=5.1.2->pydeck>=0.1.dev5->streamlit) (0.2.0)\n",
            "Requirement already satisfied: jedi>=0.16 in /usr/local/lib/python3.7/dist-packages (from ipython<8.0,>=7.23.1->ipykernel>=5.1.2->pydeck>=0.1.dev5->streamlit) (0.18.0)\n",
            "Requirement already satisfied: decorator in /usr/local/lib/python3.7/dist-packages (from ipython<8.0,>=7.23.1->ipykernel>=5.1.2->pydeck>=0.1.dev5->streamlit) (4.4.2)\n",
            "Requirement already satisfied: pickleshare in /usr/local/lib/python3.7/dist-packages (from ipython<8.0,>=7.23.1->ipykernel>=5.1.2->pydeck>=0.1.dev5->streamlit) (0.7.5)\n",
            "Collecting prompt-toolkit!=3.0.0,!=3.0.1,<3.1.0,>=2.0.0\n",
            "  Downloading prompt_toolkit-3.0.20-py3-none-any.whl (370 kB)\n",
            "\u001b[K     |████████████████████████████████| 370 kB 60.0 MB/s \n",
            "\u001b[?25hRequirement already satisfied: pexpect>4.3 in /usr/local/lib/python3.7/dist-packages (from ipython<8.0,>=7.23.1->ipykernel>=5.1.2->pydeck>=0.1.dev5->streamlit) (4.8.0)\n",
            "Requirement already satisfied: widgetsnbextension~=3.5.0 in /usr/local/lib/python3.7/dist-packages (from ipywidgets>=7.0.0->pydeck>=0.1.dev5->streamlit) (3.5.1)\n",
            "Requirement already satisfied: jupyterlab-widgets>=1.0.0 in /usr/local/lib/python3.7/dist-packages (from ipywidgets>=7.0.0->pydeck>=0.1.dev5->streamlit) (1.0.2)\n",
            "Requirement already satisfied: nbformat>=4.2.0 in /usr/local/lib/python3.7/dist-packages (from ipywidgets>=7.0.0->pydeck>=0.1.dev5->streamlit) (5.1.3)\n",
            "Requirement already satisfied: parso<0.9.0,>=0.8.0 in /usr/local/lib/python3.7/dist-packages (from jedi>=0.16->ipython<8.0,>=7.23.1->ipykernel>=5.1.2->pydeck>=0.1.dev5->streamlit) (0.8.2)\n",
            "Requirement already satisfied: MarkupSafe>=0.23 in /usr/local/lib/python3.7/dist-packages (from jinja2->altair>=3.2.0->streamlit) (2.0.1)\n",
            "Requirement already satisfied: pyzmq>=13 in /usr/local/lib/python3.7/dist-packages (from jupyter-client<8.0->ipykernel>=5.1.2->pydeck>=0.1.dev5->streamlit) (22.3.0)\n",
            "Requirement already satisfied: jupyter-core>=4.6.0 in /usr/local/lib/python3.7/dist-packages (from jupyter-client<8.0->ipykernel>=5.1.2->pydeck>=0.1.dev5->streamlit) (4.8.1)\n",
            "Requirement already satisfied: ptyprocess>=0.5 in /usr/local/lib/python3.7/dist-packages (from pexpect>4.3->ipython<8.0,>=7.23.1->ipykernel>=5.1.2->pydeck>=0.1.dev5->streamlit) (0.7.0)\n",
            "Requirement already satisfied: wcwidth in /usr/local/lib/python3.7/dist-packages (from prompt-toolkit!=3.0.0,!=3.0.1,<3.1.0,>=2.0.0->ipython<8.0,>=7.23.1->ipykernel>=5.1.2->pydeck>=0.1.dev5->streamlit) (0.2.5)\n",
            "Requirement already satisfied: notebook>=4.4.1 in /usr/local/lib/python3.7/dist-packages (from widgetsnbextension~=3.5.0->ipywidgets>=7.0.0->pydeck>=0.1.dev5->streamlit) (5.3.1)\n",
            "Requirement already satisfied: terminado>=0.8.1 in /usr/local/lib/python3.7/dist-packages (from notebook>=4.4.1->widgetsnbextension~=3.5.0->ipywidgets>=7.0.0->pydeck>=0.1.dev5->streamlit) (0.12.1)\n",
            "Requirement already satisfied: Send2Trash in /usr/local/lib/python3.7/dist-packages (from notebook>=4.4.1->widgetsnbextension~=3.5.0->ipywidgets>=7.0.0->pydeck>=0.1.dev5->streamlit) (1.8.0)\n",
            "Requirement already satisfied: nbconvert in /usr/local/lib/python3.7/dist-packages (from notebook>=4.4.1->widgetsnbextension~=3.5.0->ipywidgets>=7.0.0->pydeck>=0.1.dev5->streamlit) (5.6.1)\n",
            "Requirement already satisfied: mistune<2,>=0.8.1 in /usr/local/lib/python3.7/dist-packages (from nbconvert->notebook>=4.4.1->widgetsnbextension~=3.5.0->ipywidgets>=7.0.0->pydeck>=0.1.dev5->streamlit) (0.8.4)\n",
            "Requirement already satisfied: pandocfilters>=1.4.1 in /usr/local/lib/python3.7/dist-packages (from nbconvert->notebook>=4.4.1->widgetsnbextension~=3.5.0->ipywidgets>=7.0.0->pydeck>=0.1.dev5->streamlit) (1.5.0)\n",
            "Requirement already satisfied: bleach in /usr/local/lib/python3.7/dist-packages (from nbconvert->notebook>=4.4.1->widgetsnbextension~=3.5.0->ipywidgets>=7.0.0->pydeck>=0.1.dev5->streamlit) (4.1.0)\n",
            "Requirement already satisfied: testpath in /usr/local/lib/python3.7/dist-packages (from nbconvert->notebook>=4.4.1->widgetsnbextension~=3.5.0->ipywidgets>=7.0.0->pydeck>=0.1.dev5->streamlit) (0.5.0)\n",
            "Requirement already satisfied: defusedxml in /usr/local/lib/python3.7/dist-packages (from nbconvert->notebook>=4.4.1->widgetsnbextension~=3.5.0->ipywidgets>=7.0.0->pydeck>=0.1.dev5->streamlit) (0.7.1)\n",
            "Requirement already satisfied: webencodings in /usr/local/lib/python3.7/dist-packages (from bleach->nbconvert->notebook>=4.4.1->widgetsnbextension~=3.5.0->ipywidgets>=7.0.0->pydeck>=0.1.dev5->streamlit) (0.5.1)\n",
            "Requirement already satisfied: pyparsing>=2.0.2 in /usr/local/lib/python3.7/dist-packages (from packaging->streamlit) (2.4.7)\n",
            "Requirement already satisfied: chardet<4,>=3.0.2 in /usr/local/lib/python3.7/dist-packages (from requests->streamlit) (3.0.4)\n",
            "Requirement already satisfied: idna<3,>=2.5 in /usr/local/lib/python3.7/dist-packages (from requests->streamlit) (2.10)\n",
            "Requirement already satisfied: certifi>=2017.4.17 in /usr/local/lib/python3.7/dist-packages (from requests->streamlit) (2021.5.30)\n",
            "Requirement already satisfied: urllib3!=1.25.0,!=1.25.1,<1.26,>=1.21.1 in /usr/local/lib/python3.7/dist-packages (from requests->streamlit) (1.24.3)\n",
            "Building wheels for collected packages: blinker\n",
            "  Building wheel for blinker (setup.py) ... \u001b[?25l\u001b[?25hdone\n",
            "  Created wheel for blinker: filename=blinker-1.4-py3-none-any.whl size=13478 sha256=34bdb00b5977a4bf4c851c107d8e3f410c1800908165eeab2541c770f908c328\n",
            "  Stored in directory: /root/.cache/pip/wheels/22/f5/18/df711b66eb25b21325c132757d4314db9ac5e8dabeaf196eab\n",
            "Successfully built blinker\n",
            "Installing collected packages: prompt-toolkit, ipython, ipykernel, smmap, gitdb, watchdog, validators, pydeck, gitpython, blinker, base58, streamlit\n",
            "  Attempting uninstall: prompt-toolkit\n",
            "    Found existing installation: prompt-toolkit 1.0.18\n",
            "    Uninstalling prompt-toolkit-1.0.18:\n",
            "      Successfully uninstalled prompt-toolkit-1.0.18\n",
            "  Attempting uninstall: ipython\n",
            "    Found existing installation: ipython 5.5.0\n",
            "    Uninstalling ipython-5.5.0:\n",
            "      Successfully uninstalled ipython-5.5.0\n",
            "  Attempting uninstall: ipykernel\n",
            "    Found existing installation: ipykernel 4.10.1\n",
            "    Uninstalling ipykernel-4.10.1:\n",
            "      Successfully uninstalled ipykernel-4.10.1\n",
            "\u001b[31mERROR: pip's dependency resolver does not currently take into account all the packages that are installed. This behaviour is the source of the following dependency conflicts.\n",
            "jupyter-console 5.2.0 requires prompt-toolkit<2.0.0,>=1.0.0, but you have prompt-toolkit 3.0.20 which is incompatible.\n",
            "google-colab 1.0.0 requires ipykernel~=4.10, but you have ipykernel 6.4.1 which is incompatible.\n",
            "google-colab 1.0.0 requires ipython~=5.5.0, but you have ipython 7.28.0 which is incompatible.\u001b[0m\n",
            "Successfully installed base58-2.1.0 blinker-1.4 gitdb-4.0.7 gitpython-3.1.24 ipykernel-6.4.1 ipython-7.28.0 prompt-toolkit-3.0.20 pydeck-0.7.0 smmap-4.0.0 streamlit-1.0.0 validators-0.18.2 watchdog-2.1.6\n"
          ]
        },
        {
          "output_type": "display_data",
          "data": {
            "application/vnd.colab-display-data+json": {
              "pip_warning": {
                "packages": [
                  "IPython",
                  "ipykernel",
                  "prompt_toolkit"
                ]
              }
            }
          },
          "metadata": {}
        },
        {
          "output_type": "stream",
          "name": "stdout",
          "text": [
            "Collecting pyngrok\n",
            "  Downloading pyngrok-5.1.0.tar.gz (745 kB)\n",
            "\u001b[?25l\r\u001b[K     |▍                               | 10 kB 19.0 MB/s eta 0:00:01\r\u001b[K     |▉                               | 20 kB 21.4 MB/s eta 0:00:01\r\u001b[K     |█▎                              | 30 kB 26.0 MB/s eta 0:00:01\r\u001b[K     |█▊                              | 40 kB 28.3 MB/s eta 0:00:01\r\u001b[K     |██▏                             | 51 kB 10.0 MB/s eta 0:00:01\r\u001b[K     |██▋                             | 61 kB 11.5 MB/s eta 0:00:01\r\u001b[K     |███                             | 71 kB 9.1 MB/s eta 0:00:01\r\u001b[K     |███▌                            | 81 kB 10.1 MB/s eta 0:00:01\r\u001b[K     |████                            | 92 kB 11.1 MB/s eta 0:00:01\r\u001b[K     |████▍                           | 102 kB 8.9 MB/s eta 0:00:01\r\u001b[K     |████▉                           | 112 kB 8.9 MB/s eta 0:00:01\r\u001b[K     |█████▎                          | 122 kB 8.9 MB/s eta 0:00:01\r\u001b[K     |█████▊                          | 133 kB 8.9 MB/s eta 0:00:01\r\u001b[K     |██████▏                         | 143 kB 8.9 MB/s eta 0:00:01\r\u001b[K     |██████▋                         | 153 kB 8.9 MB/s eta 0:00:01\r\u001b[K     |███████                         | 163 kB 8.9 MB/s eta 0:00:01\r\u001b[K     |███████▌                        | 174 kB 8.9 MB/s eta 0:00:01\r\u001b[K     |████████                        | 184 kB 8.9 MB/s eta 0:00:01\r\u001b[K     |████████▍                       | 194 kB 8.9 MB/s eta 0:00:01\r\u001b[K     |████████▉                       | 204 kB 8.9 MB/s eta 0:00:01\r\u001b[K     |█████████▎                      | 215 kB 8.9 MB/s eta 0:00:01\r\u001b[K     |█████████▊                      | 225 kB 8.9 MB/s eta 0:00:01\r\u001b[K     |██████████▏                     | 235 kB 8.9 MB/s eta 0:00:01\r\u001b[K     |██████████▌                     | 245 kB 8.9 MB/s eta 0:00:01\r\u001b[K     |███████████                     | 256 kB 8.9 MB/s eta 0:00:01\r\u001b[K     |███████████▍                    | 266 kB 8.9 MB/s eta 0:00:01\r\u001b[K     |███████████▉                    | 276 kB 8.9 MB/s eta 0:00:01\r\u001b[K     |████████████▎                   | 286 kB 8.9 MB/s eta 0:00:01\r\u001b[K     |████████████▊                   | 296 kB 8.9 MB/s eta 0:00:01\r\u001b[K     |█████████████▏                  | 307 kB 8.9 MB/s eta 0:00:01\r\u001b[K     |█████████████▋                  | 317 kB 8.9 MB/s eta 0:00:01\r\u001b[K     |██████████████                  | 327 kB 8.9 MB/s eta 0:00:01\r\u001b[K     |██████████████▌                 | 337 kB 8.9 MB/s eta 0:00:01\r\u001b[K     |███████████████                 | 348 kB 8.9 MB/s eta 0:00:01\r\u001b[K     |███████████████▍                | 358 kB 8.9 MB/s eta 0:00:01\r\u001b[K     |███████████████▉                | 368 kB 8.9 MB/s eta 0:00:01\r\u001b[K     |████████████████▎               | 378 kB 8.9 MB/s eta 0:00:01\r\u001b[K     |████████████████▊               | 389 kB 8.9 MB/s eta 0:00:01\r\u001b[K     |█████████████████▏              | 399 kB 8.9 MB/s eta 0:00:01\r\u001b[K     |█████████████████▋              | 409 kB 8.9 MB/s eta 0:00:01\r\u001b[K     |██████████████████              | 419 kB 8.9 MB/s eta 0:00:01\r\u001b[K     |██████████████████▌             | 430 kB 8.9 MB/s eta 0:00:01\r\u001b[K     |███████████████████             | 440 kB 8.9 MB/s eta 0:00:01\r\u001b[K     |███████████████████▍            | 450 kB 8.9 MB/s eta 0:00:01\r\u001b[K     |███████████████████▉            | 460 kB 8.9 MB/s eta 0:00:01\r\u001b[K     |████████████████████▎           | 471 kB 8.9 MB/s eta 0:00:01\r\u001b[K     |████████████████████▋           | 481 kB 8.9 MB/s eta 0:00:01\r\u001b[K     |█████████████████████           | 491 kB 8.9 MB/s eta 0:00:01\r\u001b[K     |█████████████████████▌          | 501 kB 8.9 MB/s eta 0:00:01\r\u001b[K     |██████████████████████          | 512 kB 8.9 MB/s eta 0:00:01\r\u001b[K     |██████████████████████▍         | 522 kB 8.9 MB/s eta 0:00:01\r\u001b[K     |██████████████████████▉         | 532 kB 8.9 MB/s eta 0:00:01\r\u001b[K     |███████████████████████▎        | 542 kB 8.9 MB/s eta 0:00:01\r\u001b[K     |███████████████████████▊        | 552 kB 8.9 MB/s eta 0:00:01\r\u001b[K     |████████████████████████▏       | 563 kB 8.9 MB/s eta 0:00:01\r\u001b[K     |████████████████████████▋       | 573 kB 8.9 MB/s eta 0:00:01\r\u001b[K     |█████████████████████████       | 583 kB 8.9 MB/s eta 0:00:01\r\u001b[K     |█████████████████████████▌      | 593 kB 8.9 MB/s eta 0:00:01\r\u001b[K     |██████████████████████████      | 604 kB 8.9 MB/s eta 0:00:01\r\u001b[K     |██████████████████████████▍     | 614 kB 8.9 MB/s eta 0:00:01\r\u001b[K     |██████████████████████████▉     | 624 kB 8.9 MB/s eta 0:00:01\r\u001b[K     |███████████████████████████▎    | 634 kB 8.9 MB/s eta 0:00:01\r\u001b[K     |███████████████████████████▊    | 645 kB 8.9 MB/s eta 0:00:01\r\u001b[K     |████████████████████████████▏   | 655 kB 8.9 MB/s eta 0:00:01\r\u001b[K     |████████████████████████████▋   | 665 kB 8.9 MB/s eta 0:00:01\r\u001b[K     |█████████████████████████████   | 675 kB 8.9 MB/s eta 0:00:01\r\u001b[K     |█████████████████████████████▌  | 686 kB 8.9 MB/s eta 0:00:01\r\u001b[K     |██████████████████████████████  | 696 kB 8.9 MB/s eta 0:00:01\r\u001b[K     |██████████████████████████████▍ | 706 kB 8.9 MB/s eta 0:00:01\r\u001b[K     |██████████████████████████████▊ | 716 kB 8.9 MB/s eta 0:00:01\r\u001b[K     |███████████████████████████████▏| 727 kB 8.9 MB/s eta 0:00:01\r\u001b[K     |███████████████████████████████▋| 737 kB 8.9 MB/s eta 0:00:01\r\u001b[K     |████████████████████████████████| 745 kB 8.9 MB/s \n",
            "\u001b[?25hRequirement already satisfied: PyYAML in /usr/local/lib/python3.7/dist-packages (from pyngrok) (3.13)\n",
            "Building wheels for collected packages: pyngrok\n",
            "  Building wheel for pyngrok (setup.py) ... \u001b[?25l\u001b[?25hdone\n",
            "  Created wheel for pyngrok: filename=pyngrok-5.1.0-py3-none-any.whl size=19006 sha256=6d755b73c04ba59db2ffc6f20af23ed5455b99353a5a3195b2bfb337ae78565a\n",
            "  Stored in directory: /root/.cache/pip/wheels/bf/e6/af/ccf6598ecefecd44104069371795cb9b3afbcd16987f6ccfb3\n",
            "Successfully built pyngrok\n",
            "Installing collected packages: pyngrok\n",
            "Successfully installed pyngrok-5.1.0\n",
            "time: 23.9 s (started: 2021-10-19 16:55:43 +00:00)\n"
          ]
        }
      ]
    },
    {
      "cell_type": "code",
      "metadata": {
        "colab": {
          "base_uri": "https://localhost:8080/"
        },
        "id": "evzdAFvXEFwO",
        "outputId": "421711df-bccc-4437-ca12-9259494eafef"
      },
      "source": [
        "!ngrok authtoken 1zgWA5MStJEG0SK04iS5vTkq5HK_31XTQZ6V5wGBgQrN9n78A"
      ],
      "execution_count": 23,
      "outputs": [
        {
          "output_type": "stream",
          "name": "stdout",
          "text": [
            "Authtoken saved to configuration file: /root/.ngrok2/ngrok.yml\n",
            "time: 6.19 s (started: 2021-10-19 16:56:07 +00:00)\n"
          ]
        }
      ]
    },
    {
      "cell_type": "code",
      "metadata": {
        "id": "JGs8-dLhmLWO",
        "colab": {
          "base_uri": "https://localhost:8080/"
        },
        "outputId": "25cdf7ad-0868-46ad-86d0-793e8fca2c15"
      },
      "source": [
        "#Deployment\n",
        "#1.WebPage- HTML/CSS/JS -Flask/Django\n",
        "#2.WebApp- Streamlit/Dash\n",
        "#3.Mobile App-Kotlin/Java  "
      ],
      "execution_count": 24,
      "outputs": [
        {
          "output_type": "stream",
          "name": "stdout",
          "text": [
            "time: 3.08 ms (started: 2021-10-19 16:56:13 +00:00)\n"
          ]
        }
      ]
    },
    {
      "cell_type": "code",
      "metadata": {
        "id": "0ZBSME-Nm4IV",
        "colab": {
          "base_uri": "https://localhost:8080/"
        },
        "outputId": "8c2c3a7f-4bed-4a62-c0b9-058d854835e5"
      },
      "source": [
        "%%writefile app.py\n",
        "import streamlit as st\n",
        "import numpy as np\n",
        "from skimage.io import imread\n",
        "from skimage.transform import resize\n",
        "import pickle\n",
        "from PIL import Image\n",
        "st.set_option('deprecation.showfileUploaderEncoding',False)\n",
        "st.title('Image Classifier using Machine Learning')\n",
        "st.text('upload the image')\n",
        "\n",
        "model = pickle.load(open('img_model.p','rb'))\n",
        "\n",
        "uploaded_file = st.file_uploader(\"Choose an image...\", type=\"jpg\")\n",
        "if uploaded_file is not None:\n",
        "  img = Image.open(uploaded_file)\n",
        "  st.image(img,caption='Uploaded Image')\n",
        "\n",
        "if st.button('PREDICT'):\n",
        "  CATEGORIES = ['Colorful Flowers','Nike Rugby Ball','Ice Cream Churn']\n",
        "  st.write('Result...')\n",
        "  flat_data = []\n",
        "  img = np.array(img)\n",
        "  img_resized = resize(img,(150,150,3))\n",
        "  flat_data.append(img_resized.flatten())\n",
        "  flat_data = np.array(flat_data)\n",
        "  y_out = model.predict(flat_data)\n",
        "  y_out = CATEGORIES[y_out[0]]\n",
        "  st.title(f'PREDICTED OUTPUT:{y_out}')\n",
        "  q = model.predict_proba(flat_data)\n",
        "  for index, item in enumerate(CATEGORIES):\n",
        "    st.write(f'{item}:{q[0][index]*100}')"
      ],
      "execution_count": 25,
      "outputs": [
        {
          "output_type": "stream",
          "name": "stdout",
          "text": [
            "Writing app.py\n",
            "time: 6.72 ms (started: 2021-10-19 16:56:13 +00:00)\n"
          ]
        }
      ]
    },
    {
      "cell_type": "code",
      "metadata": {
        "id": "5U6CqbDko6d3",
        "colab": {
          "base_uri": "https://localhost:8080/"
        },
        "outputId": "083b5af7-1668-491f-c11f-fba1d5a12cbf"
      },
      "source": [
        "!streamlit run app.py & npx localtunnel --port 8501"
      ],
      "execution_count": null,
      "outputs": [
        {
          "output_type": "stream",
          "name": "stdout",
          "text": [
            "\u001b[0m\n",
            "\u001b[34m\u001b[1m  You can now view your Streamlit app in your browser.\u001b[0m\n",
            "\u001b[0m\n",
            "\u001b[34m  Network URL: \u001b[0m\u001b[1mhttp://172.28.0.2:8501\u001b[0m\n",
            "\u001b[34m  External URL: \u001b[0m\u001b[1mhttp://35.233.239.143:8501\u001b[0m\n",
            "\u001b[0m\n",
            "\u001b[K\u001b[?25hnpx: installed 22 in 9.477s\n",
            "your url is: https://shaggy-fly-72.loca.lt\n"
          ]
        }
      ]
    },
    {
      "cell_type": "code",
      "metadata": {
        "id": "LV4waTrz5TrQ"
      },
      "source": [
        ""
      ],
      "execution_count": null,
      "outputs": []
    }
  ]
}